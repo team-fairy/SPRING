{
 "cells": [
  {
   "cell_type": "markdown",
   "id": "statewide-circumstances",
   "metadata": {},
   "source": [
    "# 2021/03/08 Lecture Summary\n",
    "## Computer Vision과  Computer Graphics\n",
    "![](0308_imgs/vision_graphics.png)\n",
    "* Computer Graphics: High-Level Description을 시각적인 이미지로 보여주는 것 (Rendering)\n",
    "* Computer Vision: 시각적인 이미지를 High-Level Description으로 변환하는 것 (Inverse Rendering)\n",
    "\n",
    "### 컴퓨터 비전에서 다루는 Visual Perception\n",
    "* Color perception\n",
    "* Motion perception\n",
    "* 3D perception\n",
    "* Semantic-level perception\n",
    "* Social perception(emotion perception)\n",
    "* Visuomotor perception, etc"
   ]
  },
  {
   "cell_type": "markdown",
   "id": "impressed-earth",
   "metadata": {},
   "source": [
    "## Image Classification - CNN\n",
    "* 이미지 정보를 Neural Network에 축약해 집어넣은 후 Classification에 사용하겠다는 아이디어\n",
    "\n",
    "### Why CNN?\n",
    "![](0308_imgs/why_cnn.png)\n",
    "* Fully Connected: 이미지의 모든 정보를 학습 -> 불필요한 정보까지 특성으로 판단하는 경우가 발생\n",
    "* CNN은 Locally connected neural networks\n",
    "    * Local Feature Learning: Kernel을 이용하여 이미지의 일부만 살펴봄\n",
    "    * Parameter Sharing: Kernel의 Parameter를 공유"
   ]
  },
  {
   "cell_type": "markdown",
   "id": "southeast-password",
   "metadata": {},
   "source": [
    "## AlexNet\n",
    "![](0308_imgs/alexnet_architecture.png)\n",
    "* LeNet-5 기반의 CNN 모델\n",
    "    * 7 Hidden Layers, 605k Neurons, 60M parameters\n",
    "    * ImageNet으로 학습\n",
    "    * 활성화 함수: ReLU 사용\n",
    "    * 정규화: Dropout 사용\n",
    "* AlexNet의 구조:\n",
    "    * Conv-Pool-LRN-Conv-Pool-LRN-Conv-Conv-Conv-Pool-FC-FC-FC\n",
    "        * 현재에는 LRN(Local Response Normalization) 대신 Batch Norm을 사용\n",
    "    * Convolution Filter Size: 11 * 11"
   ]
  },
  {
   "cell_type": "markdown",
   "id": "speaking-democrat",
   "metadata": {},
   "source": [
    "## VGGNet\n",
    "![](0308_imgs/vgg_architecture.png)\n",
    "* AlexNet보다 깊이 층을 쌓은 구조 (16/19 Layers)\n",
    "* 3x3 Convolution Filter와 2x2 Max Pooling만 사용한 간단한 구조"
   ]
  },
  {
   "cell_type": "markdown",
   "id": "governing-diamond",
   "metadata": {},
   "source": [
    "## AlexNet & VGGNet 비교\n",
    "* [Colab Link](alexnet_and_vggnet.ipynb)"
   ]
  }
 ],
 "metadata": {
  "kernelspec": {
   "display_name": "Python 3",
   "language": "python",
   "name": "python3"
  },
  "language_info": {
   "codemirror_mode": {
    "name": "ipython",
    "version": 3
   },
   "file_extension": ".py",
   "mimetype": "text/x-python",
   "name": "python",
   "nbconvert_exporter": "python",
   "pygments_lexer": "ipython3",
   "version": "3.8.5"
  }
 },
 "nbformat": 4,
 "nbformat_minor": 5
}
