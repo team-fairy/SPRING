{
 "cells": [
  {
   "cell_type": "markdown",
   "id": "forward-manner",
   "metadata": {},
   "source": [
    "# 2021.01.22 Exception, File, Log Handling"
   ]
  },
  {
   "cell_type": "markdown",
   "id": "appropriate-smith",
   "metadata": {},
   "source": [
    "## Exception\n",
    "* 예상치 못한 에러가 발생했을 때 후속 조치를 위한 기능\n",
    "\n"
   ]
  },
  {
   "cell_type": "markdown",
   "id": "stone-priest",
   "metadata": {},
   "source": [
    "### Exception Base Class\n",
    "![img1](0122_imgs/exception_base_class.png)\n",
    "\n",
    "### Concrete Exception\n",
    "![img2](0122_imgs/concrete_exception.png)\n",
    "\n",
    "### OSError\n",
    "![img3](0122_imgs/oserror_exception.png)"
   ]
  },
  {
   "cell_type": "markdown",
   "id": "congressional-imaging",
   "metadata": {},
   "source": [
    "## File\n",
    "### `open()` Options\n",
    "![img4](0122_imgs/open_options.png)"
   ]
  },
  {
   "cell_type": "markdown",
   "id": "satisfied-circuit",
   "metadata": {},
   "source": [
    "## Log Handling\n",
    "\n"
   ]
  },
  {
   "cell_type": "markdown",
   "id": "desperate-belle",
   "metadata": {},
   "source": [
    "## Configuration"
   ]
  },
  {
   "cell_type": "markdown",
   "id": "collectible-beatles",
   "metadata": {},
   "source": [
    "## `argparse`\n",
    "* `argparse` 모듈을 이용하여 argument를 사용 가능\n",
    "\n",
    "```python\n",
    "import argparse\n",
    "\n",
    "\n",
    "parser = argparse.ArgumentParser(description='Sum two integers.')\n",
    "parser.add_argument('-a', \"--a_value\", dest=\"a_val\", help=\"A integers\", type=int)\n",
    "parser.add_argument('-b', \"--b_value\", dest=\"b_val\", help=\"B integers\", type=int)\n",
    "args = parser.parse_args()\n",
    "if args.a_val is None or args.b_val is None:\n",
    "\tprint(\"Argument required\")\n",
    "\texit()\n",
    "print(args)\n",
    "print(args.a_val)\n",
    "print(args.b_val)\n",
    "print(args.a_val + args.b_val)\n",
    "```\n",
    "\n",
    "![img4](0122_imgs/argparse_sample.png)"
   ]
  }
 ],
 "metadata": {
  "kernelspec": {
   "display_name": "Python 3",
   "language": "python",
   "name": "python3"
  },
  "language_info": {
   "codemirror_mode": {
    "name": "ipython",
    "version": 3
   },
   "file_extension": ".py",
   "mimetype": "text/x-python",
   "name": "python",
   "nbconvert_exporter": "python",
   "pygments_lexer": "ipython3",
   "version": "3.8.5"
  }
 },
 "nbformat": 4,
 "nbformat_minor": 5
}
