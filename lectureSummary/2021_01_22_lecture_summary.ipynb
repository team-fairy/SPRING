{
 "cells": [
  {
   "cell_type": "markdown",
   "id": "certified-natural",
   "metadata": {},
   "source": [
    "# 2021.01.22 Exception, File, Log Handling"
   ]
  },
  {
   "cell_type": "markdown",
   "id": "designed-ceramic",
   "metadata": {},
   "source": [
    "## Exception\n",
    "* 예상치 못한 에러가 발생했을 때 후속 조치를 위한 기능\n",
    "\n"
   ]
  },
  {
   "cell_type": "markdown",
   "id": "ideal-questionnaire",
   "metadata": {},
   "source": [
    "### Exception Base Class\n",
    "![img1](0122_imgs/exception_base_class.png)\n",
    "\n",
    "### Concrete Exception\n",
    "![img2](0122_imgs/concrete_exception.png)\n",
    "\n",
    "### OSError\n",
    "![img3](0122_imgs/oserror_exception.png)"
   ]
  },
  {
   "cell_type": "markdown",
   "id": "forced-methodology",
   "metadata": {},
   "source": [
    "## File\n",
    "### `open()` Options\n",
    "![img4](0122_imgs/open_options.png)\n"
   ]
  },
  {
   "cell_type": "markdown",
   "id": "departmental-latvia",
   "metadata": {},
   "source": [
    "### Directory 다루기\n",
    "* `os` 모듈\n",
    "![](0122_imgs/os_path_module.png)\n",
    "* `pathlib` 모듈\n",
    "![](0122_imgs/pathlib_module.png)"
   ]
  },
  {
   "cell_type": "markdown",
   "id": "mathematical-exemption",
   "metadata": {},
   "source": [
    "### `pickle`\n",
    "* 파이썬으로만 개발할 때 권장\n",
    "* 개발 시 다른 언어를 함께 사용할 경우 json 등 다른 형식을 사용"
   ]
  },
  {
   "cell_type": "markdown",
   "id": "contemporary-timber",
   "metadata": {},
   "source": [
    "## Log Handling"
   ]
  },
  {
   "cell_type": "code",
   "execution_count": null,
   "id": "sitting-armor",
   "metadata": {},
   "outputs": [],
   "source": [
    "import logging\n",
    "logging.basicConfig(filename='example.log', level=logging.DEBUG)\n",
    "logging.debug('test_debug')\n",
    "logging.info('test_info')\n",
    "logging.warning('test_warning')\n",
    "logging.error('test_error')"
   ]
  },
  {
   "cell_type": "code",
   "execution_count": null,
   "id": "tight-bulgaria",
   "metadata": {},
   "outputs": [],
   "source": [
    "logging.debug('test_debug_2')\n",
    "logging.info('test_info_2')\n",
    "logging.warning('test_warning_2')\n",
    "logging.error('test_error_2')"
   ]
  },
  {
   "cell_type": "markdown",
   "id": "revolutionary-dream",
   "metadata": {},
   "source": [
    "## Configuration\n",
    "\n",
    "### Config file 구조\n",
    "```\n",
    "[SectionName]\n",
    "key_1 = value_1\n",
    "key_2 = value_2\n",
    "```\n",
    "* Section Name: Case-sensitive\n",
    "* key: Case-insensitive"
   ]
  },
  {
   "cell_type": "code",
   "execution_count": null,
   "id": "common-judge",
   "metadata": {},
   "outputs": [],
   "source": [
    "import configparser\n",
    "\n",
    "config_write = configparser.ConfigParser()\n",
    "config_write['Section1'] = {\n",
    "    'key1' : 123,\n",
    "    'key2' : 12.345,\n",
    "    'key3' : True\n",
    "}\n",
    "config_write['Section2'] = {}\n",
    "config_write['Section2']['key1'] = \"world\"\n",
    "\n",
    "with open('0122_configs/sample.ini', 'w') as f:\n",
    "    config_write.write(f)"
   ]
  },
  {
   "cell_type": "code",
   "execution_count": null,
   "id": "renewable-plymouth",
   "metadata": {},
   "outputs": [],
   "source": [
    "config_read = configparser.ConfigParser()\n",
    "config_read.read('0122_configs/sample.ini') # Section\n",
    "\n",
    "print(config_read.sections()) # print list of sections\n",
    "print(type(config_read['Section1']['key1'])) # key로 섹션의 key value에 접근 시 string으로 return\n",
    "print(type(config_read.getint('Section1', 'key1'))) # return value의 타입: int\n",
    "print(type(config_read.getfloat('Section1', 'key2'))) # return value의 타입: float\n",
    "print(type(config_read.getboolean('Section1', 'key3'))) # return value의 타입: boolean"
   ]
  },
  {
   "cell_type": "markdown",
   "id": "specific-being",
   "metadata": {},
   "source": [
    "## `argparse`\n",
    "* `argparse` 모듈을 이용하여 argument를 사용 가능\n",
    "\n",
    "```python\n",
    "import argparse\n",
    "\n",
    "\n",
    "parser = argparse.ArgumentParser(description='Sum two integers.')\n",
    "parser.add_argument('-a', \"--a_value\", dest=\"a_val\", help=\"A integers\", type=int)\n",
    "parser.add_argument('-b', \"--b_value\", dest=\"b_val\", help=\"B integers\", type=int)\n",
    "args = parser.parse_args()\n",
    "if args.a_val is None or args.b_val is None:\n",
    "\tprint(\"Argument required\")\n",
    "\texit()\n",
    "print(args)\n",
    "print(args.a_val)\n",
    "print(args.b_val)\n",
    "print(args.a_val + args.b_val)\n",
    "```\n",
    "\n",
    "![img4](0122_imgs/argparse_sample.png)"
   ]
  }
 ],
 "metadata": {
  "kernelspec": {
   "display_name": "Python 3",
   "language": "python",
   "name": "python3"
  },
  "language_info": {
   "codemirror_mode": {
    "name": "ipython",
    "version": 3
   },
   "file_extension": ".py",
   "mimetype": "text/x-python",
   "name": "python",
   "nbconvert_exporter": "python",
   "pygments_lexer": "ipython3",
   "version": "3.8.5"
  }
 },
 "nbformat": 4,
 "nbformat_minor": 5
}
