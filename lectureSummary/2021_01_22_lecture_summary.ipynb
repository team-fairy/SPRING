{
 "cells": [
  {
   "cell_type": "markdown",
   "id": "limited-dance",
   "metadata": {},
   "source": [
    "# 2021.01.22 Exception, File, Log Handling"
   ]
  },
  {
   "cell_type": "markdown",
   "id": "fourth-stake",
   "metadata": {},
   "source": [
    "## Exception\n",
    "* 예상치 못한 에러가 발생했을 때 후속 조치를 위한 기능\n",
    "\n"
   ]
  },
  {
   "cell_type": "markdown",
   "id": "defined-relevance",
   "metadata": {},
   "source": [
    "### Exception Base Class\n",
    "![img1](0122_imgs/exception_base_class.png)\n",
    "\n",
    "### Concrete Exception\n",
    "![img2](0122_imgs/concrete_exception.png)\n",
    "\n",
    "### OSError\n",
    "![img3](0122_imgs/oserror_exception.png)"
   ]
  },
  {
   "cell_type": "markdown",
   "id": "failing-adobe",
   "metadata": {},
   "source": [
    "## File\n"
   ]
  },
  {
   "cell_type": "markdown",
   "id": "standing-reflection",
   "metadata": {},
   "source": [
    "## Log Handling"
   ]
  },
  {
   "cell_type": "markdown",
   "id": "color-closer",
   "metadata": {},
   "source": [
    "## Configuration"
   ]
  }
 ],
 "metadata": {
  "kernelspec": {
   "display_name": "Python 3",
   "language": "python",
   "name": "python3"
  },
  "language_info": {
   "codemirror_mode": {
    "name": "ipython",
    "version": 3
   },
   "file_extension": ".py",
   "mimetype": "text/x-python",
   "name": "python",
   "nbconvert_exporter": "python",
   "pygments_lexer": "ipython3",
   "version": "3.8.5"
  }
 },
 "nbformat": 4,
 "nbformat_minor": 5
}
