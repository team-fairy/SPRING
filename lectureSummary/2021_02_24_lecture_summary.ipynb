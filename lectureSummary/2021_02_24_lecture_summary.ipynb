{
 "cells": [
  {
   "cell_type": "markdown",
   "id": "subsequent-buffer",
   "metadata": {},
   "source": [
    "# 2021/02/23 Lecture Summary\n",
    "\n",
    "## 군집 탐색\n",
    "\n",
    "### 군집(Community)이란?\n",
    "![BoostCamp 5주차 강좌 PDF](0224_imgs/community.png)\n",
    "* 집합에 속하는 정점 사이에는 많은 간선이 존재\n",
    "* 집합에 속하는 정점과 그렇지 않은 정점 사이에는 적은 수의 간선이 존재\n",
    "\n",
    "\n",
    "### 배치 모형 (Configuration Model)\n",
    "![](0224_imgs/configuration_model.png)\n",
    "* 성공적인 군집 탐색을 정의하기 위해 도입한 개념\n",
    "    * 각 정점의 연결성(Degree)을 보존한 상태에서 간선들을 무작위로 재배치하여서 얻은 그래프\n",
    "\n",
    "\n",
    "### 군집성 (Modularity)\n",
    "$$\n",
    "{1 \\over 2|E|} \\sum_{s \\in S} (\\text{그래프 내 군집 s 내부 간선의 수} - \\text{배치 모형 내 군집 s 내부 간선의 수의 기댓값})\n",
    "$$\n",
    "* 군집성: 무작위로 연결된 배치 모형과의 비교를 통해 통계적 유의성을 판단\n",
    "    * 군집성이 클 수록 군집 탐색이 성공적\n",
    "    * 0.3 ~ 0.7의 값을 가질 때 통계적으로 유의미한 군집 탐색이라고 판단"
   ]
  },
  {
   "cell_type": "markdown",
   "id": "medical-addiction",
   "metadata": {},
   "source": [
    "## 거번-뉴먼 알고리즘 (Girvan-Newman Algorithm)\n",
    "### Betweenness\n",
    "* 간선 (a, b)의 Betweenness: 두 정점 x, y 간의 최단 경로 사이에 간선 (a, b)가 존재하는 정점 x, y의 조합의 개수\n",
    "* 매개 중심성(Betweenness Centrality): Betweenness를 기반으로 한 중심성 측정 지표\n",
    "    * 매개 중심성이 높은 간선들은 서로 다른 군집을 연결하는 다리 역할을 한다\n",
    "    \n",
    "$$\n",
    "\\text{매개중심성} = \\sum_{i<j}{\\sigma_{i, j}(x, y) \\over \\sigma_{i, j}}\n",
    "$$\n",
    "* $\\sigma_{i, j}$: 정점 i에서 j로 가는 최단 경로의 수\n",
    "* $\\sigma_{i, j}(x, y)$: 정점 i에서 j로 가는 최단 경로 중 간선 (x, y)를 포함한 경로의 수\n",
    "    \n",
    "### 알고리즘\n",
    "![](0224_imgs/girvan_newman.gif)\n",
    "* 전체 그래프에서 탐색 → 군집이 분리되도록 Bridge 역할의 간선을 순차적으로 제거\n",
    "* 군집성을 기록하여 군집성이 가장 커지는 경우를 복원"
   ]
  },
  {
   "cell_type": "markdown",
   "id": "enclosed-progressive",
   "metadata": {},
   "source": [
    "## Louvain Algorithm\n",
    "![](0224_imgs/louvain.png)\n",
    "* 상향식 탐색 알고리즘\n",
    "* 개별 정점을 하나의 군집으로 취급 → 주변의 군집에 병합하는 방식\n",
    "\n",
    "### 알고리즘\n",
    "1. 각 정점을 한 개의 정점을 가지는 군집들로 만든다\n",
    "2. 정점 u를 이웃하는 정점 v의 군집에 병합했을 때 군집성이 최대가 되는 군집에 포함시킨다\n",
    "    * 정점 u를 다른 군집에 병합했을 때 기존보다 군집성이 낮아질 경우 그대로 둔다.\n",
    "3. 더이상 군집성이 증가하지 않을 때까지 2를 반복한다.\n",
    "4. 3을 거친 군집들을 하나의 정점으로 하는 그래프를 만든 후 2로 돌아간다.\n",
    "    * 군집이 1개가 될 때까지 반복\n",
    "    * 현재의 상태를 기록한 후 2로 돌아감\n",
    "5. 군집성이 최대가 되는 경우를 복원\n",
    "![](https://t1.daumcdn.net/cfile/tistory/99DC02455B6C8BBC15)\n",
    "\n",
    "$$\n",
    "Q = {1 \\over 2m} \\sum_{i, j}\\left[A_{ij} - {k_i k_j \\over 2m}\\right] \\\\\n",
    "Q_C = {1 \\over 2m} \\sum_{i, j \\in C}\\left[A_{ij} - {k_i k_j \\over 2m}\\right] \\\\\n",
    "= {\\sum_{i, j \\in C}A_{ij} \\over 2m} - {\\sum_{i, j \\in C}k_i k_j \\over (2m)^2} = {\\sum_{i, j \\in C}A_{ij} \\over 2m} - {(\\sum_{i\\in C}k_i)^2\\over (2m)^2} \\\\\n",
    "= {\\sum_{in} \\over 2m} - \\left({\\sum_{tot} \\over 2m}\\right)^2 \\\\\n",
    "\\Delta Q = \\left[{\\sum_{in} + k_{i, in} \\over 2m} - \\left({\\sum_{tot} + k_{i} \\over 2m}\\right)^2\\right] - \\left[{\\sum_{in} \\over 2m} - \\left({\\sum_{tot} \\over 2m}\\right)^2 - \\left({{k_i}\\over 2m}\\right)^2 \\right]\n",
    "$$\n",
    "* 군집성의 변화를 계산하는 공식\n",
    "    * $\\sum_{in}$: 군집 C 안의 간선들의 weight를 합한 값\n",
    "    * $\\sum_{tot}$: 군집 C에서 발생하는 연결들의 weight 합\n",
    "    * $k_{i, in}$: 노드 i에서 군집 C로 가는 간선들의 weight 합\n",
    "    * $k_i$: 노드 i에서 출발하는 간선들의 weight 합\n",
    "    * $m$: 그래프 전체 간선들의 weight 합"
   ]
  },
  {
   "cell_type": "markdown",
   "id": "english-sugar",
   "metadata": {},
   "source": [
    "## 중첩이 있는 군집 탐색\n",
    "![](0224_imgs/overlapping_community.png)\n",
    "*  Affiliation-Graph Model: 중첩 군집 구조를 표현하는 확률적인 그래프 모델\n",
    "    * 각 군집 A에 대하여 같은 군집에 속하는 두 정점이 연결될 확률: $P_A$\n",
    "    * 두 정점이 군집 A와 B에 동시에 속할 때 간선으로 연결될 확률: $1-(1-P_A)(1-P_B)$\n",
    "    * 어느 군집에도 같이 속하지 않은 두 정점이 연결될 확률: $\\epsilon$\n",
    "* 이러한 확률값을 가지고 완화된 중첩 군집 모형을 생성 가능\n",
    "    * 익숙한 최적화 도구 (경사하강법 등)을 사용하여 모형을 탐색"
   ]
  },
  {
   "cell_type": "markdown",
   "id": "stainless-language",
   "metadata": {},
   "source": [
    "## Reference\n",
    "* 부스트캠프 [Graph 5강] 그래프의 구조를 어떻게 분석할까?\n",
    "* Mining of Massive Datasets\n",
    "* [Fast unfolding of communities in large networks](https://arxiv.org/pdf/0803.0476.pdf)\n",
    "* [[네트워크이론] Louvain algorithm for community detection](https://mons1220.tistory.com/129)"
   ]
  }
 ],
 "metadata": {
  "kernelspec": {
   "display_name": "Python 3",
   "language": "python",
   "name": "python3"
  },
  "language_info": {
   "codemirror_mode": {
    "name": "ipython",
    "version": 3
   },
   "file_extension": ".py",
   "mimetype": "text/x-python",
   "name": "python",
   "nbconvert_exporter": "python",
   "pygments_lexer": "ipython3",
   "version": "3.8.5"
  }
 },
 "nbformat": 4,
 "nbformat_minor": 5
}
