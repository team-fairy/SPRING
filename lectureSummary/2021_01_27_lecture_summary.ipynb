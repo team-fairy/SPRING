{
 "cells": [
  {
   "cell_type": "markdown",
   "id": "southeast-pixel",
   "metadata": {},
   "source": [
    "# 2021.01.27 딥러닝 학습 방법 이해하기\n",
    "\n",
    "## Softmax\n",
    "* 모델의 출력을 확률로 해석할 수 있도록 변환해주는 연산\n",
    "* sigmoid의 일반화된 버전 -> multiclassification에 사용 가능\n",
    "\n",
    "$$\n",
    "\\text{softmax}(\\textbf{o}) = \\left( {\\text{exp}(o_1) \\over \\sum_{k=1}^{p}{\\text{exp}(o_k)}}, \\cdots, {\\text{exp}(o_p) \\over \\sum_{k=1}^{p}{\\text{exp}(o_k)}} \\right) \\\\\n",
    "= \\text{softmax}(\\textbf{W}\\textbf{x} + \\textbf{b})\n",
    "$$"
   ]
  },
  {
   "cell_type": "markdown",
   "id": "cloudy-romance",
   "metadata": {},
   "source": [
    "* 활성함수: 입력받은 신호를 학습에 이용될 수 있게 출력 신호로 처리하는 함수\n",
    "    * 활성함수를 쓰지 않으면 딥러닝과 선형모형 간 차이가 없음\n",
    "    * 일반적으로 딥러닝에서는 [ReLU](https://machinelearningmastery.com/rectified-linear-activation-function-for-deep-learning-neural-networks/)를 주로 이용\n",
    "        * [Vanishing Gradient Problem을 해결](https://muzukphysics.tistory.com/193)"
   ]
  },
  {
   "cell_type": "markdown",
   "id": "infrared-omaha",
   "metadata": {},
   "source": [
    "## Backpropagation"
   ]
  }
 ],
 "metadata": {
  "kernelspec": {
   "display_name": "Python 3",
   "language": "python",
   "name": "python3"
  },
  "language_info": {
   "codemirror_mode": {
    "name": "ipython",
    "version": 3
   },
   "file_extension": ".py",
   "mimetype": "text/x-python",
   "name": "python",
   "nbconvert_exporter": "python",
   "pygments_lexer": "ipython3",
   "version": "3.8.5"
  }
 },
 "nbformat": 4,
 "nbformat_minor": 5
}
