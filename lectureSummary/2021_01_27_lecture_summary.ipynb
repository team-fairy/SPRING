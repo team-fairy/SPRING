{
 "cells": [
  {
   "cell_type": "markdown",
   "id": "southeast-pixel",
   "metadata": {},
   "source": [
    "# 2021.01.27 딥러닝 학습 방법 이해하기\n",
    "\n",
    "## Softmax\n",
    "* 모델의 출력을 확률로 해석할 수 있도록 변환해주는 연산\n",
    "* sigmoid의 일반화된 버전 -> multi-class classification에 사용 가능\n",
    "* multi-class classification의 Normalization에 사용\n",
    "\n",
    "$$\n",
    "\\text{softmax}(\\textbf{o}) = \\left( {\\text{exp}(o_1) \\over \\sum_{k=1}^{p}{\\text{exp}(o_k)}}, \\cdots, {\\text{exp}(o_p) \\over \\sum_{k=1}^{p}{\\text{exp}(o_k)}} \\right) \\\\\n",
    "= \\text{softmax}(\\textbf{W}\\textbf{x} + \\textbf{b})\n",
    "$$"
   ]
  },
  {
   "cell_type": "markdown",
   "id": "reduced-individual",
   "metadata": {},
   "source": [
    "* 활성함수: 입력받은 신호를 학습에 이용될 수 있게 출력 신호로 처리하는 함수\n",
    "    * 활성함수를 쓰지 않으면 딥러닝과 선형모형 간 차이가 없음\n",
    "    * 일반적으로 딥러닝에서는 [ReLU](https://machinelearningmastery.com/rectified-linear-activation-function-for-deep-learning-neural-networks/)를 주로 이용\n",
    "        * [Vanishing Gradient Problem을 해결](https://muzukphysics.tistory.com/193)"
   ]
  },
  {
   "cell_type": "markdown",
   "id": "automated-exhibition",
   "metadata": {},
   "source": [
    "## MLP\n",
    "\n",
    "* 층이 깊을 수록 목적함수를 근사하는데 필요한 뉴런 수가 빠르게 줄어 효율적인 학습 가능\n",
    "\n",
    "$$\n",
    "\\textbf{O} = \\textbf{Z} ^ {(\\textbf{L})} \\\\\n",
    "\\vdots \\\\\n",
    "\\textbf{H}^{(\\mathcal{l})} = \\sigma(\\textbf{Z}^{(\\mathcal{l})}) \\\\\n",
    "\\textbf{Z}^{(\\mathcal{l})} = \\textbf{H}^{(\\mathcal{l}-1)}\\textbf{W}^{(\\mathcal{l})} + \\textbf{b}^{(\\mathcal{l})} \\\\\n",
    "\\vdots \\\\\n",
    "\\textbf{H}^{(1)} = \\sigma(\\textbf{Z}^{(1)}) \\\\\n",
    "\\textbf{Z}^{(1)} = \\textbf{X}\\textbf{W}^{(1)} + \\textbf{b}^{(1)}\n",
    "$$"
   ]
  },
  {
   "cell_type": "markdown",
   "id": "dependent-longitude",
   "metadata": {},
   "source": [
    "## Backpropagation\n",
    "![](https://miro.medium.com/max/2560/1*LB10KFg5J7yK1MLxTXcLdQ.jpeg)\n",
    "[img src](https://youtu.be/Ilg3gGewQ5U)\n",
    "\n",
    "* MLP에서 각 층에는 $\\textbf{W}^{(\\mathcal{l})}, \\textbf{b}^{(\\mathcal{l})}$라는 패러미터가 존재 -> 패러미터 값을 학습하기 위해 역전파를 사용\n",
    "* 손실함수를 $\\mathcal{L}$이라 할 때 $\\partial\\mathcal{L}/\\partial\\textbf{W}^{(\\mathcal{l})}$와 $\\partial\\mathcal{L}/\\partial\\textbf{b}^{(\\mathcal{l})}$를 최소로 하는 $\\textbf{W}^{(\\mathcal{l})}$과 $\\textbf{b}^{(\\mathcal{l})}$를 구한다\n",
    "\n",
    "\n",
    "### MLP Backpropagation\n",
    "* Layer 개수: $\\text{L}$\n",
    "\n",
    "$$\n",
    "{\\partial\\mathcal{L} \\over \\partial\\textbf{W}^{(\\mathcal{l})}} = {\\partial\\mathcal{L} \\over \\partial\\textbf{O}} \\times {\\partial \\textbf{O} \\over {\\partial\\textbf{W}^{(\\mathcal{l})}}}\n",
    "\\\\\n",
    "= {\\partial\\mathcal{L} \\over \\partial\\textbf{O}} \\times {\\partial \\textbf{O} \\over \\partial\\textbf{H}^{(\\text{L}-1)}} \\times {\\partial\\textbf{H}^{(\\text{L}-1)} \\over \\partial\\textbf{Z}^{(\\text{L}-1)}} \\times {\\partial\\textbf{Z}^{(\\text{L}-1)} \\over \\partial\\textbf{W}^{(\\mathcal{l})}} \\\\\n",
    "\\vdots\n",
    "\\\\\n",
    "= {\\partial\\mathcal{L} \\over \\partial\\textbf{O}} \\times \\cdots \\times {\\partial \\textbf{Z}^{(\\mathcal{l})} \\over \\partial\\textbf{W}^{(\\mathcal{l})}} \\\\\n",
    "$$\n",
    "\n",
    "### Loss Function (손실함수)\n",
    "* Cost Function이라고도 부르며, 미분값이 최소가 되는 Weight 및 bias를 찾아 업데이트 할 때 사용\n",
    "* Loss Function의 종류\n",
    "    * Regression\n",
    "        * MSE (Mean Squared Error): 벡터의 L2 Distance를 구할 때 사용한 식과 유사\n",
    "        * MSLE(Mean Squared Logarithmic Error): `loss = square(log(y_true + 1.) - log(y_pred + 1.))`\n",
    "        * MAE (Mean Absolute Error): `loss = abs(y_true - y_pred)`\n",
    "    * Binary Classification\n",
    "        * Binary Cross-Entropy\n",
    "        * Hinge Loss: $\\mathcal{l}(x) = \\text{max}(0, 1 - t*x)$\n",
    "        * Squared Hinge Loss\n",
    "    * Multi-Class Classification\n",
    "        * Multi-Class Cross-Entropy\n",
    "        * Sparse Multiclass Cross-Entropy\n",
    "* Cross-Entropy Loss\n",
    "$$\n",
    "CE=-\\sum_{i}^{C}{y_ilog(H_i)}\n",
    "$$"
   ]
  }
 ],
 "metadata": {
  "kernelspec": {
   "display_name": "Python 3",
   "language": "python",
   "name": "python3"
  },
  "language_info": {
   "codemirror_mode": {
    "name": "ipython",
    "version": 3
   },
   "file_extension": ".py",
   "mimetype": "text/x-python",
   "name": "python",
   "nbconvert_exporter": "python",
   "pygments_lexer": "ipython3",
   "version": "3.8.5"
  }
 },
 "nbformat": 4,
 "nbformat_minor": 5
}
