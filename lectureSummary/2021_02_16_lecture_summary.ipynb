{
 "cells": [
  {
   "cell_type": "markdown",
   "id": "roman-storage",
   "metadata": {},
   "source": [
    "# 2021/02/16 Lecture Summary \n",
    "\n",
    "## LSTM\n",
    "\n",
    "![](http://colah.github.io/posts/2015-08-Understanding-LSTMs/img/LSTM3-chain.png)\n",
    "[출처](http://colah.github.io/posts/2015-08-Understanding-LSTMs/)\n",
    "$$\n",
    "f_t = \\sigma(W_f[h_{t-1}, x_t] + b_f) \\\\\n",
    "i_t = \\sigma(W_i[h_{t-1}, x_t] + b_i) \\\\\n",
    "\\tilde{C_t} = \\text{tanh}(W_c[h_{t-1}, x_t] + b_c) \\\\\n",
    "C_t = f_t * C_{t-1} + i_t * \\tilde{C_t} \\\\\n",
    "o_t = \\sigma(W_o[h_{t-1}, x_t] + b_o) \\\\\n",
    "h_t = o_t\\text{tanh}(C_t)\n",
    "$$\n"
   ]
  },
  {
   "cell_type": "code",
   "execution_count": 2,
   "id": "positive-given",
   "metadata": {},
   "outputs": [
    {
     "name": "stdout",
     "output_type": "stream",
     "text": [
      "PyTorch version:[1.6.0].\n",
      "device:[cpu].\n"
     ]
    }
   ],
   "source": [
    "import torch\n",
    "import torch.nn as nn\n",
    "from torch.nn.utils.rnn import pack_padded_sequence, pad_packed_sequence\n",
    "\n",
    "print (\"PyTorch version:[%s].\"%(torch.__version__))\n",
    "device = torch.device('cuda:0' if torch.cuda.is_available() else 'cpu')\n",
    "print (\"device:[%s].\"%(device))"
   ]
  },
  {
   "cell_type": "code",
   "execution_count": 3,
   "id": "rational-trust",
   "metadata": {},
   "outputs": [],
   "source": [
    "class LSTMModel(nn.Module):\n",
    "    '''\n",
    "    Code reference\n",
    "        https://colab.research.google.com/github/sjchoi86/upstage-basic-deeplearning/blob/main/notebook/lstm.ipynb\n",
    "        https://drive.google.com/file/d/1DwMbVf9KVvWtGz_rGyhM1uXkmc33JUlM/view\n",
    "    '''\n",
    "    def __init__(self, x_dim, embedding_dim, h_dim, n_layers, n_dirs, use_pack=False):\n",
    "        super(LSTMModel, self).__init__()\n",
    "        self.x_dim = x_dim\n",
    "        self.embedding_dim = embedding_dim\n",
    "        self.h_dim = h_dim\n",
    "        self.n_layers = n_layers\n",
    "        self.n_dirs = n_dirs\n",
    "        self.use_pack = use_pack\n",
    "        self.embedding = nn.Embedding(x_dim, embedding_dim)\n",
    "        self.rnn = nn.LSTM(\n",
    "            input_size=self.embedding_dim,\n",
    "            hidden_size=self.h_dim,\n",
    "            num_layers=self.n_layers,\n",
    "            bidirectional=True if n_dirs > 1 else False\n",
    "        )\n",
    "        \n",
    "    def forward(self, x, valid_len, device):\n",
    "        h0 = torch.zeros(\n",
    "            self.n_layers * self.n_dirs, x.size(0), self.h_dim\n",
    "        ).to(device)\n",
    "        c0 = torch.zeros(\n",
    "            self.n_layers * self.n_dirs, x.size(0), self.h_dim\n",
    "        ).to(device)\n",
    "        # Embedding\n",
    "        x_embed = self.embedding(x)\n",
    "        \n",
    "        # Packing padded seq\n",
    "        if self.use_pack:\n",
    "            x_embed = pack_padded_sequence(x_embed.transpose(0,1), valid_len)\n",
    "        else:\n",
    "            x_embed = x_embed.transpose(0, 1)\n",
    "        rnn_out,(hn,cn) = self.rnn(x_embed, (h0,c0))\n",
    "        \n",
    "        # Padding Packed seq\n",
    "        if self.use_pack:\n",
    "            rnn_out = pad_packed_sequence(rnn_out)\n",
    "        return rnn_out, (hn, cn)"
   ]
  },
  {
   "cell_type": "markdown",
   "id": "original-prospect",
   "metadata": {},
   "source": [
    "## GRU\n",
    "![](http://colah.github.io/posts/2015-08-Understanding-LSTMs/img/LSTM3-var-GRU.png)\n",
    "[출처](http://colah.github.io/posts/2015-08-Understanding-LSTMs/)\n",
    "* LSTM을 경량화한 모델\n"
   ]
  },
  {
   "cell_type": "code",
   "execution_count": 4,
   "id": "square-feature",
   "metadata": {},
   "outputs": [],
   "source": [
    "class GRUModel(nn.Module):\n",
    "    def __init__(self, x_dim, embedding_dim, h_dim, n_layers, n_dirs, use_pack=False):\n",
    "        super(GRUModel, self).__init__()\n",
    "        self.x_dim = x_dim\n",
    "        self.embedding_dim = embedding_dim\n",
    "        self.h_dim = h_dim\n",
    "        self.n_layers = n_layers\n",
    "        self.n_dirs = n_dirs\n",
    "        self.use_pack = use_pack\n",
    "        self.embedding = nn.Embedding(x_dim, embedding_dim)\n",
    "        self.rnn = nn.GRU(\n",
    "            input_size=embedding_dim,\n",
    "            hidden_size=h_dim,\n",
    "            num_layers=n_layers,\n",
    "            bidirectional=True if n_dirs > 1 else False\n",
    "        )\n",
    "        \n",
    "    def forward(self, x, valid_len, device):\n",
    "        h0 = torch.zeros(\n",
    "            self.n_layers * self.n_dirs, x.size(0), self.h_dim\n",
    "        ).to(device)\n",
    "        x_embed = self.embedding(x)\n",
    "        if self.use_pack:\n",
    "            x_embed = pack_padded_sequence(x_embed.transpose(0,1), valid_len)\n",
    "        else:\n",
    "            x_embed = x_embed.transpose(0, 1)\n",
    "        gru_out, hn = self.rnn(x_embed, h0)\n",
    "        if self.use_pack:\n",
    "            gru_out = pad_packed_sequence(gru_out)\n",
    "        return gru_out, hn"
   ]
  },
  {
   "cell_type": "code",
   "execution_count": 5,
   "id": "computational-intake",
   "metadata": {},
   "outputs": [
    {
     "name": "stderr",
     "output_type": "stream",
     "text": [
      "100%|██████████| 10/10 [00:00<00:00, 27850.62it/s]"
     ]
    },
    {
     "name": "stdout",
     "output_type": "stream",
     "text": [
      "Maximum sequence length: 20\n",
      "tensor([[85, 14, 80, 34, 99, 20, 31, 65, 53, 86,  3, 58, 30,  4, 11,  6, 50, 71,\n",
      "         74, 13],\n",
      "        [58, 13, 40, 61, 88, 18, 92, 89,  8, 14, 61, 67, 49, 59, 45, 12, 47,  5,\n",
      "          0,  0],\n",
      "        [87, 32, 79, 65,  2, 96, 43, 80, 85, 20, 41, 52, 95, 50, 35, 96, 24, 80,\n",
      "          0,  0],\n",
      "        [22,  5, 21, 84, 39,  6,  9, 84, 36, 59, 32, 30, 69, 70, 82, 56,  1,  0,\n",
      "          0,  0],\n",
      "        [70, 28, 30, 24, 76, 84, 92, 76, 77, 51,  7, 20, 82, 94, 57,  0,  0,  0,\n",
      "          0,  0],\n",
      "        [19, 83, 88, 22, 57, 40, 75, 82,  4, 46,  0,  0,  0,  0,  0,  0,  0,  0,\n",
      "          0,  0],\n",
      "        [93, 77, 16, 67, 46, 74, 24, 70,  0,  0,  0,  0,  0,  0,  0,  0,  0,  0,\n",
      "          0,  0],\n",
      "        [94, 21, 79, 24,  3, 86,  0,  0,  0,  0,  0,  0,  0,  0,  0,  0,  0,  0,\n",
      "          0,  0],\n",
      "        [80, 80, 33, 63, 34, 63,  0,  0,  0,  0,  0,  0,  0,  0,  0,  0,  0,  0,\n",
      "          0,  0],\n",
      "        [62, 76, 79, 66, 32,  0,  0,  0,  0,  0,  0,  0,  0,  0,  0,  0,  0,  0,\n",
      "          0,  0]])\n",
      "tensor([20, 18, 18, 17, 15, 10,  8,  6,  6,  5])\n"
     ]
    },
    {
     "name": "stderr",
     "output_type": "stream",
     "text": [
      "\n"
     ]
    }
   ],
   "source": [
    "# Data Preprocessing\n",
    "from tqdm import tqdm\n",
    "\n",
    "vocab_size = 100\n",
    "pad_id = 0\n",
    "\n",
    "data = [\n",
    "  [85,14,80,34,99,20,31,65,53,86,3,58,30,4,11,6,50,71,74,13],\n",
    "  [62,76,79,66,32],\n",
    "  [93,77,16,67,46,74,24,70],\n",
    "  [19,83,88,22,57,40,75,82,4,46],\n",
    "  [70,28,30,24,76,84,92,76,77,51,7,20,82,94,57],\n",
    "  [58,13,40,61,88,18,92,89,8,14,61,67,49,59,45,12,47,5],\n",
    "  [22,5,21,84,39,6,9,84,36,59,32,30,69,70,82,56,1],\n",
    "  [94,21,79,24,3,86],\n",
    "  [80,80,33,63,34,63],\n",
    "  [87,32,79,65,2,96,43,80,85,20,41,52,95,50,35,96,24,80]\n",
    "]\n",
    "max_len = len(max(data, key=len))\n",
    "print(f\"Maximum sequence length: {max_len}\")\n",
    "\n",
    "valid_lens = []\n",
    "for i, seq in enumerate(tqdm(data)):\n",
    "    valid_lens.append(len(seq))\n",
    "    if len(seq) < max_len:\n",
    "        data[i] = seq + [pad_id] * (max_len - len(seq))\n",
    "    \n",
    "# B: batch size, L: maximum sequence length\n",
    "batch = torch.LongTensor(data)  # (B, L)\n",
    "batch_lens = torch.LongTensor(valid_lens)  # (B)\n",
    "\n",
    "batch_lens, sorted_idx = batch_lens.sort(descending=True)\n",
    "batch = batch[sorted_idx]\n",
    "\n",
    "print(batch)\n",
    "print(batch_lens)"
   ]
  },
  {
   "cell_type": "code",
   "execution_count": 6,
   "id": "passive-evaluation",
   "metadata": {},
   "outputs": [],
   "source": [
    "# One-Layer LSTM & GRU w.o. Bidirectional\n",
    "embedding_size = 256\n",
    "hidden_size = 512\n",
    "num_layers = 1\n",
    "num_dirs = 1\n",
    "\n",
    "lstm_model = LSTMModel(vocab_size, embedding_size, hidden_size, num_layers, num_dirs, True)\n",
    "gru_model = GRUModel(vocab_size, embedding_size, hidden_size, num_layers, num_dirs, True)"
   ]
  },
  {
   "cell_type": "code",
   "execution_count": 7,
   "id": "greatest-lightweight",
   "metadata": {},
   "outputs": [
    {
     "name": "stdout",
     "output_type": "stream",
     "text": [
      "torch.Size([20, 10, 512])\n",
      "torch.Size([1, 10, 512])\n",
      "torch.Size([1, 10, 512])\n",
      "torch.Size([20, 10, 512])\n",
      "torch.Size([1, 10, 512])\n"
     ]
    }
   ],
   "source": [
    "lstm_outputs, (h_lstm, c_lstm) = lstm_model(batch, batch_lens, device)\n",
    "#print(lstm_outputs)\n",
    "print(lstm_outputs[0].shape)\n",
    "print(h_lstm.shape)\n",
    "print(c_lstm.shape)\n",
    "gru_outputs, h_gru = gru_model(batch, batch_lens, device)\n",
    "#print(gru_outputs)\n",
    "print(gru_outputs[0].shape)\n",
    "print(h_gru.shape)"
   ]
  },
  {
   "cell_type": "code",
   "execution_count": 8,
   "id": "amber-complement",
   "metadata": {},
   "outputs": [],
   "source": [
    "# Multi-Layer LSTM & GRU w.o. Bidirectional\n",
    "embedding_size = 256\n",
    "hidden_size = 512\n",
    "num_layers = 2\n",
    "num_dirs = 2\n",
    "\n",
    "lstm_model = LSTMModel(vocab_size, embedding_size, hidden_size, num_layers, num_dirs, True)\n",
    "gru_model = GRUModel(vocab_size, embedding_size, hidden_size, num_layers, num_dirs, True)"
   ]
  },
  {
   "cell_type": "code",
   "execution_count": 9,
   "id": "following-forum",
   "metadata": {},
   "outputs": [
    {
     "name": "stdout",
     "output_type": "stream",
     "text": [
      "torch.Size([20, 10, 1024])\n",
      "torch.Size([4, 10, 512])\n",
      "torch.Size([4, 10, 512])\n",
      "torch.Size([20, 10, 1024])\n",
      "torch.Size([4, 10, 512])\n"
     ]
    }
   ],
   "source": [
    "lstm_outputs, (h_lstm, c_lstm) = lstm_model(batch, batch_lens, device)\n",
    "print(lstm_outputs[0].shape)\n",
    "print(h_lstm.shape)\n",
    "print(c_lstm.shape)\n",
    "gru_outputs, h_gru = gru_model(batch, batch_lens, device)\n",
    "print(gru_outputs[0].shape)\n",
    "print(h_gru.shape)"
   ]
  },
  {
   "cell_type": "markdown",
   "id": "under-floor",
   "metadata": {},
   "source": [
    "## Bidirectional LSTM & GRU\n",
    "* Bidirectional을 쓰는 이유?\n",
    "    * Word2Vec의 Window와 유사한 이유\n",
    "\n",
    "> 나는 ____를 뒤집어 쓰고 펑펑 울었다.\n",
    "\n",
    "* 위의 문장에서 빈 칸의 단어를 추론하려면 앞부분이 아닌 뒷부분에 들어가는 단어가 더 중요.\n",
    "* 정확한 학습을 위해서 일방향이 아닌 양방향 학습을 사용!\n",
    "\n",
    "\n",
    "![](https://paperswithcode.com/media/methods/Screen_Shot_2020-05-25_at_8.54.27_PM.png)\n",
    "[출처](https://paperswithcode.com/method/bilstm#)\n",
    "* 두 개의 LSTM Layer가 각각 학습을 하고, 각 결과를 Concat & Flatten 하여 최종 결과를 내는 형태"
   ]
  },
  {
   "cell_type": "markdown",
   "id": "classified-influence",
   "metadata": {},
   "source": [
    "## Reference\n",
    "* Reference: http://intelligence.korea.ac.kr/members/wschoi/nlp/deeplearning/Bidirectional-RNN-and-LSTM/"
   ]
  }
 ],
 "metadata": {
  "kernelspec": {
   "display_name": "Python 3",
   "language": "python",
   "name": "python3"
  },
  "language_info": {
   "codemirror_mode": {
    "name": "ipython",
    "version": 3
   },
   "file_extension": ".py",
   "mimetype": "text/x-python",
   "name": "python",
   "nbconvert_exporter": "python",
   "pygments_lexer": "ipython3",
   "version": "3.8.5"
  }
 },
 "nbformat": 4,
 "nbformat_minor": 5
}
